{
 "cells": [
  {
   "cell_type": "code",
   "execution_count": null,
   "metadata": {},
   "outputs": [],
   "source": [
    "import numpy as np\n",
    "import pandas as pd\n",
    "from scipy import stats\n",
    "import glob\n",
    "import matplotlib.pyplot as plt\n",
    "import seaborn as sns\n",
    "from sklearn.impute import SimpleImputer\n",
    "from sklearn.preprocessing import StandardScaler, MinMaxScaler\n",
    "from nilearn.input_data import NiftiLabelsMasker\n",
    "from sklearn.decomposition import NMF\n",
    "from nilearn.image import resample_to_img\n",
    "from factor_analyzer import FactorAnalyzer\n",
    "import matplotlib\n",
    "from nilearn import datasets as ds\n",
    "from nilearn import image\n",
    "from neuromaps.stats import compare_images\n",
    "import pymc3 as pm"
   ]
  },
  {
   "cell_type": "markdown",
   "metadata": {},
   "source": [
    "Initialize"
   ]
  },
  {
   "cell_type": "code",
   "execution_count": null,
   "metadata": {},
   "outputs": [],
   "source": [
    "export_figures = True\n",
    "PATH = \"...\"\n",
    "scaler = StandardScaler()\n",
    "imp = SimpleImputer(missing_values=999,strategy=\"median\")"
   ]
  },
  {
   "cell_type": "code",
   "execution_count": 2,
   "metadata": {},
   "outputs": [],
   "source": [
    "# Initialize plotting\n",
    "matplotlib.rcParams[\"svg.fonttype\"] = \"none\"\n",
    "plt.rcParams.update({\"font.family\": \"Helvetica Neue\"})\n",
    "cm = 1 / 2.54  # centimeters in inches\n",
    "\n",
    "color = ['#3f005c', '#ffa600']\n",
    "my_colors = []\n",
    "for c in color:\n",
    "    my_colors.append(matplotlib.colors.to_rgb(c))\n"
   ]
  },
  {
   "cell_type": "markdown",
   "metadata": {},
   "source": [
    "Prepare dataset"
   ]
  },
  {
   "cell_type": "code",
   "execution_count": null,
   "metadata": {},
   "outputs": [],
   "source": [
    "# Load lesion load data\n",
    "lesion_load = pd.read_csv(PATH + \"data.csv\")\n",
    "lesion_load = lesion_load.drop(columns=\"Unnamed: 0\")\n",
    "lesion_bilat = lesion_load.iloc[:1401].copy()\n",
    "lesion_bilat = lesion_bilat.rename(columns={\"0\": \"Left\"})\n",
    "lesion_bilat[\"Right\"] = np.array(lesion_load.iloc[1401:])"
   ]
  },
  {
   "cell_type": "code",
   "execution_count": null,
   "metadata": {},
   "outputs": [],
   "source": [
    "# Load behavioral data\n",
    "Behav = pd.read_excel(PATH + 'behavioral.xlsx')\n",
    "Behav = Behav[np.invert((lesion_bilat!=0).all(axis=1))]  # excluding patients with bilateral lesions\n",
    "# Imputing missing values with median\n",
    "Behav_imp = pd.DataFrame(imp.fit_transform(Behav))\n",
    "Behav_imp.columns = Behav.columns\n",
    "# Average time for TMT A and B\n",
    "Behav_imp['TMT_Time_zscore_neg'] = np.mean([Behav_imp.TMT_A_Time_zscore_neg, Behav_imp.TMT_B_Time_zscore_neg], axis=0)"
   ]
  },
  {
   "cell_type": "code",
   "execution_count": null,
   "metadata": {},
   "outputs": [],
   "source": [
    "# Extra behavioral measures\n",
    "Behav_extra = pd.read_excel(PATH + 'behav_extended.xlsx')\n",
    "Behav_extra = Behav_extra[Behav_extra.ID.isin(Behav_imp.ID)]\n",
    "Behav_extra_imp = pd.DataFrame(imp.fit_transform(Behav_extra))\n",
    "Behav_extra_imp.columns = Behav_extra.columns\n",
    "Behav_imp['SemanticFluency'] = scaler.fit_transform(Behav_extra_imp.Semanticfluencyanimal.values.reshape(-1, 1))\n",
    "Behav_imp['PhonemicFluency'] = scaler.fit_transform(Behav_extra_imp.Phonemicfluency_total.values.reshape(-1, 1))\n",
    "Behav_imp['DigitSymbolCoding'] = scaler.fit_transform(Behav_extra_imp.DigitSymbolCoding_correct.values.reshape(-1, 1))\n",
    "Behav_imp = Behav_imp.drop(columns=[\"ID\",\"Cohort\"])\n",
    "# Scaling the total infarct volume\n",
    "Total_infarct_volume_scaled = scaler.fit_transform(np.array(Behav_imp.Total_infarct_volume).reshape(-1, 1))\n",
    "Behav_imp[\"Total_infarct_volume_scaled\"] = Total_infarct_volume_scaled\n",
    "# Collapsing the data\n",
    "Behav_imp_collapsed = pd.concat([Behav_imp, Behav_imp], axis=0)\n",
    "Behav_imp_collapsed.index = range(0,2160)"
   ]
  },
  {
   "cell_type": "code",
   "execution_count": null,
   "metadata": {},
   "outputs": [],
   "source": [
    "# Load lesion masks\n",
    "subject_names = glob.glob(PATH + '/lesionmaps/*',)\n",
    "subject_names = sorted(subject_names)\n",
    "# Load atlas\n",
    "dataset = ds.fetch_atlas_harvard_oxford('cort-maxprob-thr50-2mm', symmetric_split=True)\n",
    "cortical_mask = dataset.maps\n",
    "cortical_labels = dataset.labels\n",
    "dataset = ds.fetch_atlas_harvard_oxford('sub-maxprob-thr50-2mm')\n",
    "subcortical_mask = dataset.maps\n",
    "subcortical_labels = dataset.labels\n",
    "# Edit the labels\n",
    "cortical_labels = pd.DataFrame(cortical_labels)\n",
    "cortical_labels = cortical_labels.drop(index=[0,93,94])\n",
    "subcortical_labels = pd.DataFrame(subcortical_labels)\n",
    "subcortical_labels = subcortical_labels.drop(index=[0,1,2,3,12,13,14])"
   ]
  },
  {
   "cell_type": "code",
   "execution_count": null,
   "metadata": {},
   "outputs": [],
   "source": [
    "# Loading mapped to cortical and subcortical regions\n",
    "cortical = pd.read_csv(PATH + \"/cortical.csv\")\n",
    "cortical = cortical.drop(columns=\"Unnamed: 0\")\n",
    "subcortical = pd.read_csv(PATH + \"/subcortical.csv\")\n",
    "subcortical = subcortical.drop(columns=\"Unnamed: 0\")\n",
    "\n",
    "# resample one sub to the cortical mask\n",
    "cortical_resampled_stat_img = resample_to_img(cortical_mask, subject_names[0], interpolation='nearest')\n",
    "# resample one subject to subcortical mask\n",
    "subcortical_resampled_stat_img = resample_to_img(subcortical_mask, subject_names[0], interpolation='nearest')\n",
    "# count voxels in a region\n",
    "cortical_count_labels = np.bincount(cortical_resampled_stat_img.get_data().astype(np.int64).ravel())\n",
    "subcortical_count_labels = np.bincount(subcortical_resampled_stat_img.get_data().astype(np.int64).ravel())"
   ]
  },
  {
   "cell_type": "code",
   "execution_count": null,
   "metadata": {},
   "outputs": [],
   "source": [
    "# Extracting the labels\n",
    "cortical_count_labels = pd.DataFrame(cortical_count_labels)\n",
    "cortical_count_labels = np.array(cortical_count_labels.drop(index=[0,93,94])).ravel()\n",
    "subcortical_count_labels = pd.DataFrame(subcortical_count_labels)\n",
    "subcortical_count_labels = np.array(subcortical_count_labels.drop(index=[0, ])).ravel()\n",
    "\n",
    "# number of lesion in each region\n",
    "cortical_lesion_count_absolute = cortical*cortical_count_labels\n",
    "subcortical_lesion_count_absolute = subcortical*subcortical_count_labels\n",
    "subcortical_lesion_count_absolute = subcortical_lesion_count_absolute.drop(columns=[\"0\",\"1\",\"2\",\"11\",\"12\",\"13\"])"
   ]
  },
  {
   "cell_type": "code",
   "execution_count": null,
   "metadata": {},
   "outputs": [],
   "source": [
    "# Renaming the columns\n",
    "cortical_lesion_count_absolute.columns = cortical_labels\n",
    "subcortical_lesion_count_absolute.columns = subcortical_labels\n",
    "\n",
    "new_columns = []\n",
    "for parcel in range(len(cortical_lesion_count_absolute.columns)):\n",
    "        new_columns.append(cortical_lesion_count_absolute.columns[parcel][0].replace(\" \", \"_\"))\n",
    "cortical_lesion_count_absolute.columns = new_columns\n",
    "\n",
    "new_columns = []\n",
    "for parcel in range(0, len(subcortical_lesion_count_absolute.columns)):\n",
    "        new_columns.append(subcortical_lesion_count_absolute.columns[parcel][0].replace(\" \", \"_\"))\n",
    "subcortical_lesion_count_absolute.columns = new_columns\n",
    "\n",
    "subcortical_lesion_count_absolute = subcortical_lesion_count_absolute.drop(columns=['Brain-Stem'])\n",
    "\n",
    "# reduce to non-bilateral\n",
    "cortical_lesion_count_absolute = cortical_lesion_count_absolute[np.invert((lesion_bilat!=0).all(axis=1))]"
   ]
  },
  {
   "cell_type": "code",
   "execution_count": null,
   "metadata": {},
   "outputs": [],
   "source": [
    "# Splitting the data into left and right hemisphere\n",
    "cortical_lesion_left = cortical_lesion_count_absolute.iloc[:,range(0,94,2)]\n",
    "cortical_lesion_left.loc[:,\"Left_hemisphere\"] = 0\n",
    "cortical_lesion_right = cortical_lesion_count_absolute.iloc[:,range(1,95,2)]\n",
    "cortical_lesion_right.loc[:,\"Left_hemisphere\"] = 1\n",
    "\n",
    "for hem, hem_name in zip([cortical_lesion_right, cortical_lesion_left], [\"Right_\", \"Left_\"]):\n",
    "    new_columns = []\n",
    "    for parcel in range(0, len(hem.columns[:-1])):\n",
    "            new_columns.append(hem.columns[parcel].replace(hem_name, \"\"))\n",
    "    new_columns.append(\"Left_hemisphere\")\n",
    "    hem.columns = new_columns\n",
    "\n",
    "cortical_lesion_collapsed = pd.concat([cortical_lesion_left, cortical_lesion_right])"
   ]
  },
  {
   "cell_type": "code",
   "execution_count": null,
   "metadata": {},
   "outputs": [],
   "source": [
    "# Splitting the data into left and right hemisphere\n",
    "subcortical_lesion_count_absolute = subcortical_lesion_count_absolute[np.invert((lesion_bilat!=0).all(axis=1))]\n",
    "\n",
    "subcortical_lesion_left = subcortical_lesion_count_absolute.iloc[:,range(0,7,1)]\n",
    "subcortical_lesion_left.loc[:,\"Left_hemisphere\"] = 0\n",
    "subcortical_lesion_right = subcortical_lesion_count_absolute.iloc[:,range(7,14,1)]\n",
    "subcortical_lesion_right.loc[:,\"Left_hemisphere\"] = 1\n",
    "\n",
    "for hem, hem_name in zip([subcortical_lesion_right, subcortical_lesion_left], [\"Right_\", \"Left_\"]):\n",
    "    new_columns = []\n",
    "    for parcel in range(0, len(hem.columns[:-1])):\n",
    "            new_columns.append(hem.columns[parcel].replace(hem_name, \"\"))\n",
    "    new_columns.append(\"Left_hemisphere\")\n",
    "    hem.columns = new_columns\n",
    "\n",
    "subcortical_lesion_collapsed = pd.concat([subcortical_lesion_left, subcortical_lesion_right])"
   ]
  },
  {
   "cell_type": "code",
   "execution_count": null,
   "metadata": {},
   "outputs": [],
   "source": [
    "lesions_collapsed_all = pd.concat([cortical_lesion_collapsed, subcortical_lesion_collapsed], axis=1)\n",
    "lesions_collapsed_hemisphere = lesions_collapsed_all[\"Left_hemisphere\"].copy()\n",
    "lesions_collapsed_hemisphere = np.array(lesions_collapsed_hemisphere)\n",
    "lesions_collapsed_all = lesions_collapsed_all.drop(columns=\"Left_hemisphere\")\n"
   ]
  },
  {
   "cell_type": "code",
   "execution_count": null,
   "metadata": {},
   "outputs": [],
   "source": [
    "hemisphere_idx = lesions_collapsed_hemisphere[:,0]\n",
    "n_hemispheres = len(np.unique(lesions_collapsed_hemisphere))\n",
    "n_components = 10"
   ]
  },
  {
   "cell_type": "markdown",
   "metadata": {},
   "source": [
    "Prepare covariates"
   ]
  },
  {
   "cell_type": "code",
   "execution_count": 33,
   "metadata": {},
   "outputs": [],
   "source": [
    "Age_mean_scaled = Behav_imp[\"Age\"] - Behav_imp[\"Age\"].mean()\n",
    "Age_mean_scaled = np.concatenate((Age_mean_scaled, Age_mean_scaled))\n",
    "Age_mean_scaled_2 = np.array(Age_mean_scaled * Age_mean_scaled)\n",
    "\n",
    "Behav_imp_collapsed[\"Sex_1_m\"] = Behav_imp_collapsed[\"Sex\"].replace(1, 0)\n",
    "Behav_imp_collapsed[\"Sex_1_m\"] = Behav_imp_collapsed[\"Sex_1_m\"].replace(2, 1)\n",
    "Sex_m = np.int64(np.array(Behav_imp_collapsed[\"Sex_1_m\"]))\n",
    "Behav_imp_collapsed[\"Sex_1_w\"] = Behav_imp_collapsed[\"Sex\"].replace(2, 0)\n",
    "Sex_w = np.int64(np.array(Behav_imp_collapsed[\"Sex_1_w\"]))\n",
    "\n",
    "Age_Sex_m = Age_mean_scaled * Sex_m\n",
    "Age_Sex_w = Age_mean_scaled * Sex_w\n",
    "\n",
    "Lesion_vol_scaled = np.array(Behav_imp_collapsed.Total_infarct_volume_scaled)\n"
   ]
  },
  {
   "cell_type": "code",
   "execution_count": 35,
   "metadata": {},
   "outputs": [],
   "source": [
    "# Behavioral measures\n",
    "Education_mean_scaled = Behav_imp[\"Education_years\"] - \\\n",
    "    Behav_imp[\"Education_years\"].mean()\n",
    "Education_mean_scaled = np.concatenate(\n",
    "    (Education_mean_scaled, Education_mean_scaled))\n",
    "Education_mean_scaled = np.array(Education_mean_scaled)\n",
    "\n",
    "IQ_mean_scaled = Behav_imp[\"IQCODE\"] - Behav_imp[\"IQCODE\"].mean()\n",
    "# double Age_scaled for hierarchical approach\n",
    "IQ_mean_scaled = np.concatenate((IQ_mean_scaled, IQ_mean_scaled))\n",
    "IQ_mean_scaled = np.array(IQ_mean_scaled)\n",
    "\n",
    "MMSE = np.array(Behav_imp_collapsed.MMSE_total_zscore.values)"
   ]
  },
  {
   "cell_type": "code",
   "execution_count": null,
   "metadata": {},
   "outputs": [],
   "source": [
    "# Input data\n",
    "X1 = Behav_imp_collapsed.MMSE_total_zscore.values\n",
    "X2 = Behav_imp_collapsed.ReyComplexFigureTestCopy_zscore.values\n",
    "X3 = Behav_imp_collapsed.BostonNamingTest_zscore.values\n",
    "X4 = Behav_imp_collapsed.Seoul_Verbal_Learning_Test_immediate_recall_total_zscore.values\n",
    "X5 = Behav_imp_collapsed.TMT_Time_zscore_neg.values\n",
    "X6 = Behav_imp_collapsed.SemanticFluency.values\n",
    "X7 = Behav_imp_collapsed.PhonemicFluency.values\n",
    "X8 = Behav_imp_collapsed.DigitSymbolCoding.values\n",
    "X = np.array([X1, X2, X3, X4, X5, X6, X7, X8])\n",
    "cat_names = ['Mini-Mental State', 'Rey Complex Figure', 'Boston Naming',\n",
    "             'Seoul Verbal Learning', 'Trail Making', 'Semantic Fluency',\n",
    "             'Phonemic Fluency', 'Digit Symbol Coding']"
   ]
  },
  {
   "cell_type": "markdown",
   "metadata": {},
   "source": [
    "NMF transformation"
   ]
  },
  {
   "cell_type": "code",
   "execution_count": 38,
   "metadata": {},
   "outputs": [],
   "source": [
    "# NMF log nmb of lesions na 10 komponent\n",
    "nmf = NMF(n_components=10, init='random', random_state=0)\n",
    "lesions_collapsed_all_nmf_abs_log = nmf.fit_transform(\n",
    "    np.log(lesions_collapsed_all+1))"
   ]
  },
  {
   "cell_type": "markdown",
   "metadata": {},
   "source": [
    "BHM model"
   ]
  },
  {
   "cell_type": "code",
   "execution_count": 40,
   "metadata": {},
   "outputs": [],
   "source": [
    "# Univariate outcome\n",
    "n_components = 10\n",
    "with pm.Model() as hierarchical_all_parcels_education_log_model:\n",
    "    b_all = [\"b_1\", \"b_2\", \"b_3\", \"b_4\", \"b_5\",\n",
    "             \"b_6\", \"b_7\", \"b_8\", \"b_9\", \"b_10\"]\n",
    "    mu = pm.Normal(\"a\", mu=0, sd=1)\n",
    "    sigma_b_hyper = pm.HalfCauchy(\"sigma_b_hyper\",  1, shape=1)\n",
    "    sigma_b_all = pm.HalfCauchy(\"sigma_b_all\", sigma_b_hyper, shape=2)\n",
    "\n",
    "    for i_component in range(n_components):\n",
    "        cur_beta = pm.Normal(b_all[i_component], mu=0, sd=sigma_b_all, shape=2)\n",
    "        mu = mu + cur_beta[hemisphere_idx] * \\\n",
    "            lesions_collapsed_all_nmf_abs_log[:, i_component]\n",
    "\n",
    "    cov1_beta = pm.Normal(\"cov1_lesions\", mu=0, sd=10, shape=1)\n",
    "    cov2_beta = pm.Normal(\"cov2_age\", mu=0, sd=10, shape=1)\n",
    "    cov3_beta = pm.Normal(\"cov3_age_2\", mu=0, sd=10, shape=1)\n",
    "    cov4_beta = pm.Normal(\"cov4_sex_m\", mu=0, sd=1, shape=1)\n",
    "    cov5_beta = pm.Normal(\"cov5_sex_w\", mu=0, sd=1, shape=1)\n",
    "    cov6_beta = pm.Normal(\"cov6_ed_years\", mu=0, sd=5, shape=1)\n",
    "    cov7_beta = pm.Normal(\"cov7_IQCode\", mu=0, sd=1, shape=1)\n",
    "    mu = mu + cov1_beta*Lesion_vol_scaled + cov2_beta*Age_mean_scaled + cov3_beta*Age_mean_scaled_2 + cov4_beta*Sex_m + \\\n",
    "        cov5_beta*Sex_w + cov6_beta * Education_mean_scaled + cov7_beta*IQ_mean_scaled\n",
    "\n",
    "    # Model error\n",
    "    eps = pm.HalfCauchy('eps', 20)\n",
    "\n",
    "    # Data likelihood\n",
    "    TO_uv = pm.Normal('TO_uv', mu=mu, sd=eps, observed=X)\n"
   ]
  },
  {
   "cell_type": "code",
   "execution_count": 41,
   "metadata": {},
   "outputs": [],
   "source": [
    "# Load the trace\n",
    "b_all = []\n",
    "b_left = []\n",
    "b_right = []\n",
    "b_inverse = []\n",
    "nmf_left = []\n",
    "nmf_right = []\n",
    "nmf_left_ms = []\n",
    "nmf_right_ms = []\n",
    "mask_vars = []\n",
    "mask = []\n",
    "for j in range(4):\n",
    "    with hierarchical_all_parcels_education_log_model:\n",
    "        hierarchical_all_parcels_education_log_trace = pm.load_trace(\n",
    "            PATH + \"/unimodal_fa_v\" + str(j+1) + \".trace\")\n",
    "\n",
    "    # left betas\n",
    "    tmp_left = []\n",
    "    # for i, i_nmf in zip(range(1, 11), range(10)):\n",
    "    for i in np.arange(1, n_components+1):\n",
    "        tmp_left.append(pd.DataFrame(\n",
    "            hierarchical_all_parcels_education_log_trace[1000:][\"b_%i\" % i])[0].mean())\n",
    "    tmp_left_inverse = nmf.inverse_transform(tmp_left)\n",
    "    nmf_left.append(tmp_left)\n",
    "\n",
    "    # right betas\n",
    "    tmp_right = []\n",
    "    for i in np.arange(1, n_components+1):\n",
    "        tmp_right.append(pd.DataFrame(\n",
    "            hierarchical_all_parcels_education_log_trace[1000:][\"b_%i\" % i])[1].mean())\n",
    "    tmp_right_inverse = nmf.inverse_transform(tmp_right)\n",
    "    nmf_right.append(tmp_right)\n",
    "\n",
    "    tmp_inverse = pd.DataFrame(tmp_left_inverse)\n",
    "    tmp_inverse = tmp_inverse.rename(columns={0: \"left\"})\n",
    "    tmp_inverse[\"right\"] = pd.DataFrame(tmp_right_inverse)\n",
    "    b_inverse.append(tmp_inverse)\n",
    "\n",
    "    # Scale regional loadings\n",
    "    b = np.concatenate((tmp_left_inverse, tmp_right_inverse))\n",
    "    b = np.matrix.flatten(scaler.fit_transform(b.reshape(-1, 1)))\n",
    "    b_all.append(np.abs(b))\n",
    "\n",
    "    tmp_left_inverse = b[0:int(len(b)/2)]\n",
    "    tmp_right_inverse = b[int(len(b)/2):len(b)]\n",
    "\n",
    "    b_left.append(np.abs(np.matrix.flatten(tmp_left_inverse)))\n",
    "    b_right.append(np.abs(np.matrix.flatten(tmp_right_inverse)))\n",
    "\n",
    "    # Scale NMF loadings\n",
    "    b = (np.concatenate((tmp_left, tmp_right)))\n",
    "    b = np.matrix.flatten(scaler.fit_transform(b.reshape(-1, 1)))\n",
    "    tmp_left = b[0:int(len(b)/2)]\n",
    "    tmp_right = b[int(len(b)/2):len(b)]\n",
    "\n",
    "    nmf_left_ms.append(np.abs(np.matrix.flatten(tmp_left)))\n",
    "    nmf_right_ms.append(np.abs(np.matrix.flatten(tmp_right)))\n"
   ]
  },
  {
   "cell_type": "code",
   "execution_count": null,
   "metadata": {},
   "outputs": [],
   "source": [
    "# fit maskers\n",
    "ho_cor = ds.fetch_atlas_harvard_oxford(\n",
    "    'cort-maxprob-thr0-2mm', symmetric_split=True)\n",
    "ho_sub = ds.fetch_atlas_harvard_oxford(\n",
    "    'sub-maxprob-thr0-2mm', symmetric_split=False)\n",
    "cortical_region = np.concatenate((np.ones(48, dtype=bool),\n",
    "                                  np.zeros(17, dtype=bool)))\n",
    "subcortical_region = np.concatenate((np.zeros(48, dtype=bool),\n",
    "                                     np.ones(7, dtype=bool),\n",
    "                                     np.zeros(10, dtype=bool)))\n",
    "\n",
    "subcort_oder = [5, 1, 4, 3, 2, 0, 6]\n",
    "ho_cor_rois = np.array(ho_cor.labels, dtype=str)\n",
    "ho_sub_rois = np.array(ho_sub.labels, dtype=str)\n",
    "masker_cor = NiftiLabelsMasker(labels_img=ho_cor.maps, standardize=False,\n",
    "                               memory='nilearn_cache')\n",
    "masker_cor.fit()\n",
    "masker_sub = NiftiLabelsMasker(labels_img=ho_sub.maps, standardize=False,\n",
    "                               memory='nilearn_cache')\n",
    "masker_sub.fit()"
   ]
  },
  {
   "cell_type": "code",
   "execution_count": 43,
   "metadata": {},
   "outputs": [],
   "source": [
    "# Plot on brain\n",
    "language_net = image.load_img(\n",
    "    PATH+'/Data/Language/allParcels_language_SN220.nii')\n",
    "language_net = image.math_img(\"(img>0)*1+0.00001\", img=language_net)\n",
    "\n",
    "demand_net = image.load_img(PATH+'/Data/Language/allParcels_MD_HE197.nii')\n",
    "demand_net = image.math_img(\"(img>0)*1+0.00001\", img=demand_net)\n",
    "\n",
    "r_language = []\n",
    "r_demand = []\n",
    "ov_language = []\n",
    "ov_demand = []\n",
    "for i in range(4):\n",
    "    tmp_inverse = b_inverse[i]\n",
    "    x = (np.array(tmp_inverse.transpose()))\n",
    "    x = np.abs(x)\n",
    "\n",
    "    # Cortical\n",
    "    x1 = x[0, :47]\n",
    "    x2 = x[1, :47]\n",
    "    data_cor = np.zeros(2*len(x1))\n",
    "    data_cor[0::2] = x1\n",
    "    data_cor[1::2] = x2\n",
    "\n",
    "    data_cor = np.insert(data_cor, 93, 0)\n",
    "    data_cor = np.insert(data_cor, 94, 0)\n",
    "    data_cor = np.reshape((data_cor), (-1, 1))\n",
    "\n",
    "    nifti_cor = masker_cor.inverse_transform(data_cor.T)\n",
    "    A = masker_cor.transform(nifti_cor)\n",
    "\n",
    "    # Subcortical\n",
    "    x1 = x[0, 47:]\n",
    "    x2 = x[1, 47:]\n",
    "\n",
    "    data_sub = np.concatenate((np.zeros(3), x1, np.zeros(4), x2))\n",
    "    data_sub = np.reshape((data_sub), (-1, 1))\n",
    "    nifti_sub = masker_sub.inverse_transform(data_sub.T)\n",
    "\n",
    "    nifti = image.mean_img(nifti_cor)\n",
    "\n",
    "\n",
    "    nifti_ov_lan = image.math_img(\"img1 * img2\",\n",
    "                                  img1=language_net, img2=nifti)\n",
    "    nifti_ov_dem = image.math_img(\"img1 * img2\",\n",
    "                                  img1=demand_net, img2=nifti)\n",
    "    ov_language.append(np.sum(masker_cor.transform(nifti_ov_lan)) /\n",
    "                       np.sum(data_cor)/np.sum(masker_cor.transform(language_net)))\n",
    "    ov_demand.append(np.sum(masker_cor.transform(nifti_ov_dem)) /\n",
    "                     np.sum(data_cor)/np.sum(masker_cor.transform(language_net)))\n",
    "\n",
    "    r_language.append(compare_images(nifti, language_net))\n",
    "    r_demand.append(compare_images(nifti, demand_net))\n"
   ]
  },
  {
   "cell_type": "code",
   "execution_count": 44,
   "metadata": {},
   "outputs": [],
   "source": [
    "def change_width(ax, new_value):\n",
    "    for patch in ax.patches:\n",
    "        current_width = patch.get_width()\n",
    "        diff = current_width - new_value\n",
    "\n",
    "        # we change the bar width\n",
    "        patch.set_width(new_value)\n",
    "\n",
    "        # we recenter the bar\n",
    "        patch.set_x(patch.get_x() + diff * .5)\n"
   ]
  },
  {
   "cell_type": "code",
   "execution_count": 45,
   "metadata": {},
   "outputs": [
    {
     "data": {
      "image/png": "[encoded data removed]",
      "text/plain": [
       "<Figure size 720x504 with 1 Axes>"
      ]
     },
     "metadata": {},
     "output_type": "display_data"
    }
   ],
   "source": [
    "df = pd.DataFrame({'Language': r_language, 'Demand': r_demand})\n",
    "df = pd.melt(df, ignore_index=False)\n",
    "df = df.reset_index(drop=False)\n",
    "\n",
    "sns.set_theme(style=\"white\", palette='colorblind', font_scale=2)\n",
    "fig, ax = plt.subplots(1, figsize=(10, 7))\n",
    "g = sns.barplot(x='index', y='value', hue='variable', data=df,\n",
    "                # order=reduced_regions[idx],\n",
    "                palette=my_colors)\n",
    "g.set_xticklabels(np.arange(1, 5))\n",
    "# plt.xlim((-0.5, len(reduced_regions)-0.5))\n",
    "# g.set_xlabel('')\n",
    "plt.legend(title='Network')\n",
    "ax.yaxis.grid()\n",
    "sns.despine(left=True)\n",
    "g.set_ylabel(\"Pearson's r\")\n",
    "g.set_xlabel(\"Factor\")\n",
    "plt.axhline(y=0, linestyle='--', linewidth=1, color='k')\n",
    "change_width(ax, 0.35)\n",
    "plt.show()\n"
   ]
  },
  {
   "cell_type": "code",
   "execution_count": null,
   "metadata": {},
   "outputs": [
    {
     "data": {
      "image/png": "[encoded data removed]",
      "text/plain": [
       "<Figure size 576x576 with 1 Axes>"
      ]
     },
     "metadata": {},
     "output_type": "display_data"
    }
   ],
   "source": [
    "df = pd.DataFrame({'Language': ov_language, 'Demand': ov_demand})\n",
    "df = pd.melt(df, ignore_index=False)\n",
    "df = df.reset_index(drop=False)\n",
    "\n",
    "sns.set_theme(style=\"white\", palette='colorblind', font_scale=1.6)\n",
    "fig, ax = plt.subplots(1, figsize=(8, 8))\n",
    "g = sns.barplot(x='index', y='value', hue='variable', data=df,\n",
    "                # order=reduced_regions[idx],\n",
    "                palette=my_colors)\n",
    "g.set_xticklabels(np.arange(1, 5))\n",
    "# plt.xlim((-0.5, len(reduced_regions)-0.5))\n",
    "# g.set_xlabel('')\n",
    "plt.legend(title='Network', loc='upper center')\n",
    "ax.yaxis.grid()\n",
    "sns.despine(left=True)\n",
    "g.set_ylabel(\"Overlay [A.U.]\")\n",
    "g.set_xlabel(\"Factor\")\n",
    "plt.axhline(y=0, linestyle='--', linewidth=1, color='k')\n",
    "plt.show()\n"
   ]
  }
 ],
 "metadata": {
  "kernelspec": {
   "display_name": "Python 3.9.12 ('pymc3')",
   "language": "python",
   "name": "python3"
  },
  "language_info": {
   "codemirror_mode": {
    "name": "ipython",
    "version": 3
   },
   "file_extension": ".py",
   "mimetype": "text/x-python",
   "name": "python",
   "nbconvert_exporter": "python",
   "pygments_lexer": "ipython3",
   "version": "3.9.12"
  },
  "vscode": {
   "interpreter": {
    "hash": "c2c9e36c825e41c6adfda42748c2127e4d976114e16b97414f8fe9b2747b1132"
   }
  }
 },
 "nbformat": 4,
 "nbformat_minor": 2
}
